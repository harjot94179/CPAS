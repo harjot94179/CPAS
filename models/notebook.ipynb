{
 "cells": [
  {
   "cell_type": "code",
   "execution_count": 5,
   "metadata": {},
   "outputs": [],
   "source": [
    "\n",
    "import types\n",
    "import pandas as pd\n",
    "\n",
    "\n",
    "def __iter__(self): return 0\n",
    "\n",
    "# @hidden_cell\n",
    "# The following code accesses a file in your IBM Cloud Object Storage. It includes your credentials.\n",
    "# You might want to remove those credentials before you share the notebook.\n",
    "\n",
    "\n",
    "df = pd.read_excel('Train_dataset.xlsx')\n",
    "\n"
   ]
  },
  {
   "cell_type": "markdown",
   "metadata": {},
   "source": [
    "# Imports"
   ]
  },
  {
   "cell_type": "code",
   "execution_count": 6,
   "metadata": {},
   "outputs": [],
   "source": [
    "import pandas as pd\n",
    "import numpy as np\n",
    "import seaborn as sns\n",
    "import matplotlib.pyplot as plt\n",
    "%matplotlib inline"
   ]
  },
  {
   "cell_type": "code",
   "execution_count": 7,
   "metadata": {},
   "outputs": [],
   "source": [
    "#df=pd.read_excel('Train_dataset.xlsx')"
   ]
  },
  {
   "cell_type": "code",
   "execution_count": 8,
   "metadata": {},
   "outputs": [
    {
     "data": {
      "text/html": [
       "<div>\n",
       "<style scoped>\n",
       "    .dataframe tbody tr th:only-of-type {\n",
       "        vertical-align: middle;\n",
       "    }\n",
       "\n",
       "    .dataframe tbody tr th {\n",
       "        vertical-align: top;\n",
       "    }\n",
       "\n",
       "    .dataframe thead th {\n",
       "        text-align: right;\n",
       "    }\n",
       "</style>\n",
       "<table border=\"1\" class=\"dataframe\">\n",
       "  <thead>\n",
       "    <tr style=\"text-align: right;\">\n",
       "      <th></th>\n",
       "      <th>people_ID</th>\n",
       "      <th>Children</th>\n",
       "      <th>cases/1M</th>\n",
       "      <th>Deaths/1M</th>\n",
       "      <th>Age</th>\n",
       "      <th>Coma score</th>\n",
       "      <th>Diuresis</th>\n",
       "      <th>Platelets</th>\n",
       "      <th>HBB</th>\n",
       "      <th>d-dimer</th>\n",
       "      <th>Heart rate</th>\n",
       "      <th>HDL cholesterol</th>\n",
       "      <th>Charlson Index</th>\n",
       "      <th>Blood Glucose</th>\n",
       "      <th>Insurance</th>\n",
       "      <th>salary</th>\n",
       "      <th>FT/month</th>\n",
       "      <th>Infect_Prob</th>\n",
       "    </tr>\n",
       "  </thead>\n",
       "  <tbody>\n",
       "    <tr>\n",
       "      <th>count</th>\n",
       "      <td>10714.000000</td>\n",
       "      <td>10403.000000</td>\n",
       "      <td>10714.000000</td>\n",
       "      <td>10714.000000</td>\n",
       "      <td>10714.000000</td>\n",
       "      <td>10714.000000</td>\n",
       "      <td>9998.000000</td>\n",
       "      <td>9790.000000</td>\n",
       "      <td>10698.000000</td>\n",
       "      <td>9600.000000</td>\n",
       "      <td>9600.000000</td>\n",
       "      <td>10679.000000</td>\n",
       "      <td>10714.000000</td>\n",
       "      <td>10714.000000</td>\n",
       "      <td>9.624000e+03</td>\n",
       "      <td>1.071400e+04</td>\n",
       "      <td>9991.000000</td>\n",
       "      <td>10714.000000</td>\n",
       "    </tr>\n",
       "    <tr>\n",
       "      <th>mean</th>\n",
       "      <td>10084.893784</td>\n",
       "      <td>1.062770</td>\n",
       "      <td>3.285888</td>\n",
       "      <td>0.523241</td>\n",
       "      <td>42.083722</td>\n",
       "      <td>9.013067</td>\n",
       "      <td>278.806261</td>\n",
       "      <td>87.795812</td>\n",
       "      <td>116.170967</td>\n",
       "      <td>275.292292</td>\n",
       "      <td>74.847396</td>\n",
       "      <td>52.632737</td>\n",
       "      <td>20.028094</td>\n",
       "      <td>5.015027</td>\n",
       "      <td>2.644919e+06</td>\n",
       "      <td>1.304713e+06</td>\n",
       "      <td>1.004604</td>\n",
       "      <td>52.280680</td>\n",
       "    </tr>\n",
       "    <tr>\n",
       "      <th>std</th>\n",
       "      <td>7108.663645</td>\n",
       "      <td>0.818222</td>\n",
       "      <td>2.721274</td>\n",
       "      <td>0.854303</td>\n",
       "      <td>15.323397</td>\n",
       "      <td>3.714970</td>\n",
       "      <td>97.985526</td>\n",
       "      <td>41.851103</td>\n",
       "      <td>55.178811</td>\n",
       "      <td>43.669692</td>\n",
       "      <td>14.869104</td>\n",
       "      <td>10.434293</td>\n",
       "      <td>11.828445</td>\n",
       "      <td>1.399770</td>\n",
       "      <td>1.383346e+06</td>\n",
       "      <td>6.075947e+05</td>\n",
       "      <td>0.815257</td>\n",
       "      <td>10.674667</td>\n",
       "    </tr>\n",
       "    <tr>\n",
       "      <th>min</th>\n",
       "      <td>1.000000</td>\n",
       "      <td>0.000000</td>\n",
       "      <td>1.000000</td>\n",
       "      <td>0.000000</td>\n",
       "      <td>16.000000</td>\n",
       "      <td>3.000000</td>\n",
       "      <td>110.000000</td>\n",
       "      <td>15.000000</td>\n",
       "      <td>20.000000</td>\n",
       "      <td>200.000000</td>\n",
       "      <td>50.000000</td>\n",
       "      <td>35.000000</td>\n",
       "      <td>0.000000</td>\n",
       "      <td>3.000000</td>\n",
       "      <td>3.000000e+05</td>\n",
       "      <td>3.000000e+05</td>\n",
       "      <td>0.000000</td>\n",
       "      <td>29.289600</td>\n",
       "    </tr>\n",
       "    <tr>\n",
       "      <th>25%</th>\n",
       "      <td>2679.250000</td>\n",
       "      <td>0.000000</td>\n",
       "      <td>2.000000</td>\n",
       "      <td>0.000000</td>\n",
       "      <td>29.000000</td>\n",
       "      <td>6.000000</td>\n",
       "      <td>194.000000</td>\n",
       "      <td>52.000000</td>\n",
       "      <td>68.000000</td>\n",
       "      <td>237.000000</td>\n",
       "      <td>62.000000</td>\n",
       "      <td>44.000000</td>\n",
       "      <td>10.000000</td>\n",
       "      <td>4.000000</td>\n",
       "      <td>1.400000e+06</td>\n",
       "      <td>8.000000e+05</td>\n",
       "      <td>0.000000</td>\n",
       "      <td>47.277426</td>\n",
       "    </tr>\n",
       "    <tr>\n",
       "      <th>50%</th>\n",
       "      <td>10003.500000</td>\n",
       "      <td>1.000000</td>\n",
       "      <td>2.000000</td>\n",
       "      <td>0.000000</td>\n",
       "      <td>42.000000</td>\n",
       "      <td>9.000000</td>\n",
       "      <td>276.000000</td>\n",
       "      <td>88.000000</td>\n",
       "      <td>117.000000</td>\n",
       "      <td>276.000000</td>\n",
       "      <td>75.000000</td>\n",
       "      <td>53.000000</td>\n",
       "      <td>20.000000</td>\n",
       "      <td>5.000000</td>\n",
       "      <td>2.600000e+06</td>\n",
       "      <td>1.300000e+06</td>\n",
       "      <td>1.000000</td>\n",
       "      <td>49.008389</td>\n",
       "    </tr>\n",
       "    <tr>\n",
       "      <th>75%</th>\n",
       "      <td>15141.750000</td>\n",
       "      <td>2.000000</td>\n",
       "      <td>4.000000</td>\n",
       "      <td>1.000000</td>\n",
       "      <td>55.000000</td>\n",
       "      <td>12.000000</td>\n",
       "      <td>364.000000</td>\n",
       "      <td>124.000000</td>\n",
       "      <td>165.000000</td>\n",
       "      <td>313.000000</td>\n",
       "      <td>88.000000</td>\n",
       "      <td>62.000000</td>\n",
       "      <td>30.000000</td>\n",
       "      <td>6.000000</td>\n",
       "      <td>3.800000e+06</td>\n",
       "      <td>1.800000e+06</td>\n",
       "      <td>2.000000</td>\n",
       "      <td>52.762313</td>\n",
       "    </tr>\n",
       "    <tr>\n",
       "      <th>max</th>\n",
       "      <td>22695.000000</td>\n",
       "      <td>2.000000</td>\n",
       "      <td>8.000000</td>\n",
       "      <td>2.000000</td>\n",
       "      <td>68.000000</td>\n",
       "      <td>15.000000</td>\n",
       "      <td>450.000000</td>\n",
       "      <td>160.000000</td>\n",
       "      <td>210.000000</td>\n",
       "      <td>350.000000</td>\n",
       "      <td>100.000000</td>\n",
       "      <td>70.000000</td>\n",
       "      <td>40.000000</td>\n",
       "      <td>7.000000</td>\n",
       "      <td>5.000000e+06</td>\n",
       "      <td>2.300000e+06</td>\n",
       "      <td>2.000000</td>\n",
       "      <td>97.632000</td>\n",
       "    </tr>\n",
       "  </tbody>\n",
       "</table>\n",
       "</div>"
      ],
      "text/plain": [
       "          people_ID      Children      cases/1M     Deaths/1M           Age  \\\n",
       "count  10714.000000  10403.000000  10714.000000  10714.000000  10714.000000   \n",
       "mean   10084.893784      1.062770      3.285888      0.523241     42.083722   \n",
       "std     7108.663645      0.818222      2.721274      0.854303     15.323397   \n",
       "min        1.000000      0.000000      1.000000      0.000000     16.000000   \n",
       "25%     2679.250000      0.000000      2.000000      0.000000     29.000000   \n",
       "50%    10003.500000      1.000000      2.000000      0.000000     42.000000   \n",
       "75%    15141.750000      2.000000      4.000000      1.000000     55.000000   \n",
       "max    22695.000000      2.000000      8.000000      2.000000     68.000000   \n",
       "\n",
       "         Coma score     Diuresis    Platelets           HBB      d-dimer  \\\n",
       "count  10714.000000  9998.000000  9790.000000  10698.000000  9600.000000   \n",
       "mean       9.013067   278.806261    87.795812    116.170967   275.292292   \n",
       "std        3.714970    97.985526    41.851103     55.178811    43.669692   \n",
       "min        3.000000   110.000000    15.000000     20.000000   200.000000   \n",
       "25%        6.000000   194.000000    52.000000     68.000000   237.000000   \n",
       "50%        9.000000   276.000000    88.000000    117.000000   276.000000   \n",
       "75%       12.000000   364.000000   124.000000    165.000000   313.000000   \n",
       "max       15.000000   450.000000   160.000000    210.000000   350.000000   \n",
       "\n",
       "        Heart rate  HDL cholesterol  Charlson Index  Blood Glucose  \\\n",
       "count  9600.000000     10679.000000    10714.000000   10714.000000   \n",
       "mean     74.847396        52.632737       20.028094       5.015027   \n",
       "std      14.869104        10.434293       11.828445       1.399770   \n",
       "min      50.000000        35.000000        0.000000       3.000000   \n",
       "25%      62.000000        44.000000       10.000000       4.000000   \n",
       "50%      75.000000        53.000000       20.000000       5.000000   \n",
       "75%      88.000000        62.000000       30.000000       6.000000   \n",
       "max     100.000000        70.000000       40.000000       7.000000   \n",
       "\n",
       "          Insurance        salary     FT/month   Infect_Prob  \n",
       "count  9.624000e+03  1.071400e+04  9991.000000  10714.000000  \n",
       "mean   2.644919e+06  1.304713e+06     1.004604     52.280680  \n",
       "std    1.383346e+06  6.075947e+05     0.815257     10.674667  \n",
       "min    3.000000e+05  3.000000e+05     0.000000     29.289600  \n",
       "25%    1.400000e+06  8.000000e+05     0.000000     47.277426  \n",
       "50%    2.600000e+06  1.300000e+06     1.000000     49.008389  \n",
       "75%    3.800000e+06  1.800000e+06     2.000000     52.762313  \n",
       "max    5.000000e+06  2.300000e+06     2.000000     97.632000  "
      ]
     },
     "execution_count": 8,
     "metadata": {},
     "output_type": "execute_result"
    }
   ],
   "source": [
    "df.describe()"
   ]
  },
  {
   "cell_type": "code",
   "execution_count": 9,
   "metadata": {},
   "outputs": [
    {
     "data": {
      "text/html": [
       "<div>\n",
       "<style scoped>\n",
       "    .dataframe tbody tr th:only-of-type {\n",
       "        vertical-align: middle;\n",
       "    }\n",
       "\n",
       "    .dataframe tbody tr th {\n",
       "        vertical-align: top;\n",
       "    }\n",
       "\n",
       "    .dataframe thead th {\n",
       "        text-align: right;\n",
       "    }\n",
       "</style>\n",
       "<table border=\"1\" class=\"dataframe\">\n",
       "  <thead>\n",
       "    <tr style=\"text-align: right;\">\n",
       "      <th></th>\n",
       "      <th>people_ID</th>\n",
       "      <th>Region</th>\n",
       "      <th>Gender</th>\n",
       "      <th>Designation</th>\n",
       "      <th>Name</th>\n",
       "      <th>Married</th>\n",
       "      <th>Children</th>\n",
       "      <th>Occupation</th>\n",
       "      <th>Mode_transport</th>\n",
       "      <th>cases/1M</th>\n",
       "      <th>...</th>\n",
       "      <th>HBB</th>\n",
       "      <th>d-dimer</th>\n",
       "      <th>Heart rate</th>\n",
       "      <th>HDL cholesterol</th>\n",
       "      <th>Charlson Index</th>\n",
       "      <th>Blood Glucose</th>\n",
       "      <th>Insurance</th>\n",
       "      <th>salary</th>\n",
       "      <th>FT/month</th>\n",
       "      <th>Infect_Prob</th>\n",
       "    </tr>\n",
       "  </thead>\n",
       "  <tbody>\n",
       "    <tr>\n",
       "      <th>0</th>\n",
       "      <td>1</td>\n",
       "      <td>Bhubaneshwar</td>\n",
       "      <td>Female</td>\n",
       "      <td>Mrs</td>\n",
       "      <td>mansi</td>\n",
       "      <td>YES</td>\n",
       "      <td>1.0</td>\n",
       "      <td>Farmer</td>\n",
       "      <td>Public</td>\n",
       "      <td>2</td>\n",
       "      <td>...</td>\n",
       "      <td>93.0</td>\n",
       "      <td>233.0</td>\n",
       "      <td>82.0</td>\n",
       "      <td>58.0</td>\n",
       "      <td>27</td>\n",
       "      <td>7</td>\n",
       "      <td>3600000.0</td>\n",
       "      <td>1300000</td>\n",
       "      <td>2.0</td>\n",
       "      <td>49.135010</td>\n",
       "    </tr>\n",
       "    <tr>\n",
       "      <th>1</th>\n",
       "      <td>2</td>\n",
       "      <td>Bhubaneshwar</td>\n",
       "      <td>Female</td>\n",
       "      <td>Mrs</td>\n",
       "      <td>riya masi</td>\n",
       "      <td>YES</td>\n",
       "      <td>2.0</td>\n",
       "      <td>Farmer</td>\n",
       "      <td>Walk</td>\n",
       "      <td>2</td>\n",
       "      <td>...</td>\n",
       "      <td>56.0</td>\n",
       "      <td>328.0</td>\n",
       "      <td>89.0</td>\n",
       "      <td>68.0</td>\n",
       "      <td>5</td>\n",
       "      <td>6</td>\n",
       "      <td>1600000.0</td>\n",
       "      <td>400000</td>\n",
       "      <td>1.0</td>\n",
       "      <td>51.147880</td>\n",
       "    </tr>\n",
       "    <tr>\n",
       "      <th>2</th>\n",
       "      <td>3</td>\n",
       "      <td>Bhubaneshwar</td>\n",
       "      <td>Female</td>\n",
       "      <td>Mrs</td>\n",
       "      <td>sunita</td>\n",
       "      <td>NO</td>\n",
       "      <td>1.0</td>\n",
       "      <td>Cleaner</td>\n",
       "      <td>Public</td>\n",
       "      <td>2</td>\n",
       "      <td>...</td>\n",
       "      <td>137.0</td>\n",
       "      <td>213.0</td>\n",
       "      <td>77.0</td>\n",
       "      <td>43.0</td>\n",
       "      <td>40</td>\n",
       "      <td>6</td>\n",
       "      <td>3400000.0</td>\n",
       "      <td>900000</td>\n",
       "      <td>1.0</td>\n",
       "      <td>73.224000</td>\n",
       "    </tr>\n",
       "    <tr>\n",
       "      <th>3</th>\n",
       "      <td>4</td>\n",
       "      <td>Bhubaneshwar</td>\n",
       "      <td>Female</td>\n",
       "      <td>Mrs</td>\n",
       "      <td>anjali @ babli</td>\n",
       "      <td>YES</td>\n",
       "      <td>1.0</td>\n",
       "      <td>Driver</td>\n",
       "      <td>Car</td>\n",
       "      <td>2</td>\n",
       "      <td>...</td>\n",
       "      <td>167.0</td>\n",
       "      <td>275.0</td>\n",
       "      <td>64.0</td>\n",
       "      <td>60.0</td>\n",
       "      <td>27</td>\n",
       "      <td>7</td>\n",
       "      <td>700000.0</td>\n",
       "      <td>2300000</td>\n",
       "      <td>1.0</td>\n",
       "      <td>48.779225</td>\n",
       "    </tr>\n",
       "    <tr>\n",
       "      <th>4</th>\n",
       "      <td>5</td>\n",
       "      <td>Bhubaneshwar</td>\n",
       "      <td>Female</td>\n",
       "      <td>Mrs</td>\n",
       "      <td>champa karketta</td>\n",
       "      <td>NO</td>\n",
       "      <td>2.0</td>\n",
       "      <td>Manufacturing</td>\n",
       "      <td>Car</td>\n",
       "      <td>2</td>\n",
       "      <td>...</td>\n",
       "      <td>153.0</td>\n",
       "      <td>331.0</td>\n",
       "      <td>71.0</td>\n",
       "      <td>64.0</td>\n",
       "      <td>32</td>\n",
       "      <td>7</td>\n",
       "      <td>3200000.0</td>\n",
       "      <td>1100000</td>\n",
       "      <td>1.0</td>\n",
       "      <td>87.868800</td>\n",
       "    </tr>\n",
       "  </tbody>\n",
       "</table>\n",
       "<p>5 rows × 28 columns</p>\n",
       "</div>"
      ],
      "text/plain": [
       "   people_ID        Region  Gender Designation             Name Married  \\\n",
       "0          1  Bhubaneshwar  Female         Mrs            mansi     YES   \n",
       "1          2  Bhubaneshwar  Female         Mrs        riya masi     YES   \n",
       "2          3  Bhubaneshwar  Female         Mrs           sunita      NO   \n",
       "3          4  Bhubaneshwar  Female         Mrs   anjali @ babli     YES   \n",
       "4          5  Bhubaneshwar  Female         Mrs  champa karketta      NO   \n",
       "\n",
       "   Children     Occupation Mode_transport  cases/1M  ...    HBB d-dimer  \\\n",
       "0       1.0         Farmer         Public         2  ...   93.0   233.0   \n",
       "1       2.0         Farmer           Walk         2  ...   56.0   328.0   \n",
       "2       1.0        Cleaner         Public         2  ...  137.0   213.0   \n",
       "3       1.0         Driver            Car         2  ...  167.0   275.0   \n",
       "4       2.0  Manufacturing            Car         2  ...  153.0   331.0   \n",
       "\n",
       "   Heart rate  HDL cholesterol Charlson Index Blood Glucose  Insurance  \\\n",
       "0        82.0             58.0             27             7  3600000.0   \n",
       "1        89.0             68.0              5             6  1600000.0   \n",
       "2        77.0             43.0             40             6  3400000.0   \n",
       "3        64.0             60.0             27             7   700000.0   \n",
       "4        71.0             64.0             32             7  3200000.0   \n",
       "\n",
       "    salary  FT/month  Infect_Prob  \n",
       "0  1300000       2.0    49.135010  \n",
       "1   400000       1.0    51.147880  \n",
       "2   900000       1.0    73.224000  \n",
       "3  2300000       1.0    48.779225  \n",
       "4  1100000       1.0    87.868800  \n",
       "\n",
       "[5 rows x 28 columns]"
      ]
     },
     "execution_count": 9,
     "metadata": {},
     "output_type": "execute_result"
    }
   ],
   "source": [
    "df.head()"
   ]
  },
  {
   "cell_type": "code",
   "execution_count": 10,
   "metadata": {},
   "outputs": [],
   "source": [
    "X=df.drop(columns=['Infect_Prob'],axis=1)"
   ]
  },
  {
   "cell_type": "code",
   "execution_count": 11,
   "metadata": {},
   "outputs": [
    {
     "data": {
      "text/html": [
       "<div>\n",
       "<style scoped>\n",
       "    .dataframe tbody tr th:only-of-type {\n",
       "        vertical-align: middle;\n",
       "    }\n",
       "\n",
       "    .dataframe tbody tr th {\n",
       "        vertical-align: top;\n",
       "    }\n",
       "\n",
       "    .dataframe thead th {\n",
       "        text-align: right;\n",
       "    }\n",
       "</style>\n",
       "<table border=\"1\" class=\"dataframe\">\n",
       "  <thead>\n",
       "    <tr style=\"text-align: right;\">\n",
       "      <th></th>\n",
       "      <th>people_ID</th>\n",
       "      <th>Region</th>\n",
       "      <th>Gender</th>\n",
       "      <th>Designation</th>\n",
       "      <th>Name</th>\n",
       "      <th>Married</th>\n",
       "      <th>Children</th>\n",
       "      <th>Occupation</th>\n",
       "      <th>Mode_transport</th>\n",
       "      <th>cases/1M</th>\n",
       "      <th>...</th>\n",
       "      <th>Platelets</th>\n",
       "      <th>HBB</th>\n",
       "      <th>d-dimer</th>\n",
       "      <th>Heart rate</th>\n",
       "      <th>HDL cholesterol</th>\n",
       "      <th>Charlson Index</th>\n",
       "      <th>Blood Glucose</th>\n",
       "      <th>Insurance</th>\n",
       "      <th>salary</th>\n",
       "      <th>FT/month</th>\n",
       "    </tr>\n",
       "  </thead>\n",
       "  <tbody>\n",
       "    <tr>\n",
       "      <th>0</th>\n",
       "      <td>1</td>\n",
       "      <td>Bhubaneshwar</td>\n",
       "      <td>Female</td>\n",
       "      <td>Mrs</td>\n",
       "      <td>mansi</td>\n",
       "      <td>YES</td>\n",
       "      <td>1.0</td>\n",
       "      <td>Farmer</td>\n",
       "      <td>Public</td>\n",
       "      <td>2</td>\n",
       "      <td>...</td>\n",
       "      <td>154.0</td>\n",
       "      <td>93.0</td>\n",
       "      <td>233.0</td>\n",
       "      <td>82.0</td>\n",
       "      <td>58.0</td>\n",
       "      <td>27</td>\n",
       "      <td>7</td>\n",
       "      <td>3600000.0</td>\n",
       "      <td>1300000</td>\n",
       "      <td>2.0</td>\n",
       "    </tr>\n",
       "    <tr>\n",
       "      <th>1</th>\n",
       "      <td>2</td>\n",
       "      <td>Bhubaneshwar</td>\n",
       "      <td>Female</td>\n",
       "      <td>Mrs</td>\n",
       "      <td>riya masi</td>\n",
       "      <td>YES</td>\n",
       "      <td>2.0</td>\n",
       "      <td>Farmer</td>\n",
       "      <td>Walk</td>\n",
       "      <td>2</td>\n",
       "      <td>...</td>\n",
       "      <td>121.0</td>\n",
       "      <td>56.0</td>\n",
       "      <td>328.0</td>\n",
       "      <td>89.0</td>\n",
       "      <td>68.0</td>\n",
       "      <td>5</td>\n",
       "      <td>6</td>\n",
       "      <td>1600000.0</td>\n",
       "      <td>400000</td>\n",
       "      <td>1.0</td>\n",
       "    </tr>\n",
       "    <tr>\n",
       "      <th>2</th>\n",
       "      <td>3</td>\n",
       "      <td>Bhubaneshwar</td>\n",
       "      <td>Female</td>\n",
       "      <td>Mrs</td>\n",
       "      <td>sunita</td>\n",
       "      <td>NO</td>\n",
       "      <td>1.0</td>\n",
       "      <td>Cleaner</td>\n",
       "      <td>Public</td>\n",
       "      <td>2</td>\n",
       "      <td>...</td>\n",
       "      <td>124.0</td>\n",
       "      <td>137.0</td>\n",
       "      <td>213.0</td>\n",
       "      <td>77.0</td>\n",
       "      <td>43.0</td>\n",
       "      <td>40</td>\n",
       "      <td>6</td>\n",
       "      <td>3400000.0</td>\n",
       "      <td>900000</td>\n",
       "      <td>1.0</td>\n",
       "    </tr>\n",
       "    <tr>\n",
       "      <th>3</th>\n",
       "      <td>4</td>\n",
       "      <td>Bhubaneshwar</td>\n",
       "      <td>Female</td>\n",
       "      <td>Mrs</td>\n",
       "      <td>anjali @ babli</td>\n",
       "      <td>YES</td>\n",
       "      <td>1.0</td>\n",
       "      <td>Driver</td>\n",
       "      <td>Car</td>\n",
       "      <td>2</td>\n",
       "      <td>...</td>\n",
       "      <td>98.0</td>\n",
       "      <td>167.0</td>\n",
       "      <td>275.0</td>\n",
       "      <td>64.0</td>\n",
       "      <td>60.0</td>\n",
       "      <td>27</td>\n",
       "      <td>7</td>\n",
       "      <td>700000.0</td>\n",
       "      <td>2300000</td>\n",
       "      <td>1.0</td>\n",
       "    </tr>\n",
       "    <tr>\n",
       "      <th>4</th>\n",
       "      <td>5</td>\n",
       "      <td>Bhubaneshwar</td>\n",
       "      <td>Female</td>\n",
       "      <td>Mrs</td>\n",
       "      <td>champa karketta</td>\n",
       "      <td>NO</td>\n",
       "      <td>2.0</td>\n",
       "      <td>Manufacturing</td>\n",
       "      <td>Car</td>\n",
       "      <td>2</td>\n",
       "      <td>...</td>\n",
       "      <td>21.0</td>\n",
       "      <td>153.0</td>\n",
       "      <td>331.0</td>\n",
       "      <td>71.0</td>\n",
       "      <td>64.0</td>\n",
       "      <td>32</td>\n",
       "      <td>7</td>\n",
       "      <td>3200000.0</td>\n",
       "      <td>1100000</td>\n",
       "      <td>1.0</td>\n",
       "    </tr>\n",
       "  </tbody>\n",
       "</table>\n",
       "<p>5 rows × 27 columns</p>\n",
       "</div>"
      ],
      "text/plain": [
       "   people_ID        Region  Gender Designation             Name Married  \\\n",
       "0          1  Bhubaneshwar  Female         Mrs            mansi     YES   \n",
       "1          2  Bhubaneshwar  Female         Mrs        riya masi     YES   \n",
       "2          3  Bhubaneshwar  Female         Mrs           sunita      NO   \n",
       "3          4  Bhubaneshwar  Female         Mrs   anjali @ babli     YES   \n",
       "4          5  Bhubaneshwar  Female         Mrs  champa karketta      NO   \n",
       "\n",
       "   Children     Occupation Mode_transport  cases/1M  ...  Platelets    HBB  \\\n",
       "0       1.0         Farmer         Public         2  ...      154.0   93.0   \n",
       "1       2.0         Farmer           Walk         2  ...      121.0   56.0   \n",
       "2       1.0        Cleaner         Public         2  ...      124.0  137.0   \n",
       "3       1.0         Driver            Car         2  ...       98.0  167.0   \n",
       "4       2.0  Manufacturing            Car         2  ...       21.0  153.0   \n",
       "\n",
       "   d-dimer  Heart rate HDL cholesterol Charlson Index  Blood Glucose  \\\n",
       "0    233.0        82.0            58.0             27              7   \n",
       "1    328.0        89.0            68.0              5              6   \n",
       "2    213.0        77.0            43.0             40              6   \n",
       "3    275.0        64.0            60.0             27              7   \n",
       "4    331.0        71.0            64.0             32              7   \n",
       "\n",
       "   Insurance   salary  FT/month  \n",
       "0  3600000.0  1300000       2.0  \n",
       "1  1600000.0   400000       1.0  \n",
       "2  3400000.0   900000       1.0  \n",
       "3   700000.0  2300000       1.0  \n",
       "4  3200000.0  1100000       1.0  \n",
       "\n",
       "[5 rows x 27 columns]"
      ]
     },
     "execution_count": 11,
     "metadata": {},
     "output_type": "execute_result"
    }
   ],
   "source": [
    "X.head()"
   ]
  },
  {
   "cell_type": "code",
   "execution_count": 12,
   "metadata": {},
   "outputs": [],
   "source": [
    "y=df['Infect_Prob']"
   ]
  },
  {
   "cell_type": "markdown",
   "metadata": {},
   "source": [
    "# preprocessing"
   ]
  },
  {
   "cell_type": "code",
   "execution_count": 13,
   "metadata": {},
   "outputs": [
    {
     "data": {
      "text/html": [
       "<div>\n",
       "<style scoped>\n",
       "    .dataframe tbody tr th:only-of-type {\n",
       "        vertical-align: middle;\n",
       "    }\n",
       "\n",
       "    .dataframe tbody tr th {\n",
       "        vertical-align: top;\n",
       "    }\n",
       "\n",
       "    .dataframe thead th {\n",
       "        text-align: right;\n",
       "    }\n",
       "</style>\n",
       "<table border=\"1\" class=\"dataframe\">\n",
       "  <thead>\n",
       "    <tr style=\"text-align: right;\">\n",
       "      <th></th>\n",
       "      <th>people_ID</th>\n",
       "      <th>Region</th>\n",
       "      <th>Gender</th>\n",
       "      <th>Designation</th>\n",
       "      <th>Name</th>\n",
       "      <th>Married</th>\n",
       "      <th>Children</th>\n",
       "      <th>Occupation</th>\n",
       "      <th>Mode_transport</th>\n",
       "      <th>cases/1M</th>\n",
       "      <th>...</th>\n",
       "      <th>Platelets</th>\n",
       "      <th>HBB</th>\n",
       "      <th>d-dimer</th>\n",
       "      <th>Heart rate</th>\n",
       "      <th>HDL cholesterol</th>\n",
       "      <th>Charlson Index</th>\n",
       "      <th>Blood Glucose</th>\n",
       "      <th>Insurance</th>\n",
       "      <th>salary</th>\n",
       "      <th>FT/month</th>\n",
       "    </tr>\n",
       "  </thead>\n",
       "  <tbody>\n",
       "    <tr>\n",
       "      <th>0</th>\n",
       "      <td>1</td>\n",
       "      <td>Bhubaneshwar</td>\n",
       "      <td>Female</td>\n",
       "      <td>Mrs</td>\n",
       "      <td>mansi</td>\n",
       "      <td>YES</td>\n",
       "      <td>1.0</td>\n",
       "      <td>Farmer</td>\n",
       "      <td>Public</td>\n",
       "      <td>2</td>\n",
       "      <td>...</td>\n",
       "      <td>154.0</td>\n",
       "      <td>93.0</td>\n",
       "      <td>233.0</td>\n",
       "      <td>82.0</td>\n",
       "      <td>58.0</td>\n",
       "      <td>27</td>\n",
       "      <td>7</td>\n",
       "      <td>3600000.0</td>\n",
       "      <td>1300000</td>\n",
       "      <td>2.0</td>\n",
       "    </tr>\n",
       "    <tr>\n",
       "      <th>1</th>\n",
       "      <td>2</td>\n",
       "      <td>Bhubaneshwar</td>\n",
       "      <td>Female</td>\n",
       "      <td>Mrs</td>\n",
       "      <td>riya masi</td>\n",
       "      <td>YES</td>\n",
       "      <td>2.0</td>\n",
       "      <td>Farmer</td>\n",
       "      <td>Walk</td>\n",
       "      <td>2</td>\n",
       "      <td>...</td>\n",
       "      <td>121.0</td>\n",
       "      <td>56.0</td>\n",
       "      <td>328.0</td>\n",
       "      <td>89.0</td>\n",
       "      <td>68.0</td>\n",
       "      <td>5</td>\n",
       "      <td>6</td>\n",
       "      <td>1600000.0</td>\n",
       "      <td>400000</td>\n",
       "      <td>1.0</td>\n",
       "    </tr>\n",
       "    <tr>\n",
       "      <th>2</th>\n",
       "      <td>3</td>\n",
       "      <td>Bhubaneshwar</td>\n",
       "      <td>Female</td>\n",
       "      <td>Mrs</td>\n",
       "      <td>sunita</td>\n",
       "      <td>NO</td>\n",
       "      <td>1.0</td>\n",
       "      <td>Cleaner</td>\n",
       "      <td>Public</td>\n",
       "      <td>2</td>\n",
       "      <td>...</td>\n",
       "      <td>124.0</td>\n",
       "      <td>137.0</td>\n",
       "      <td>213.0</td>\n",
       "      <td>77.0</td>\n",
       "      <td>43.0</td>\n",
       "      <td>40</td>\n",
       "      <td>6</td>\n",
       "      <td>3400000.0</td>\n",
       "      <td>900000</td>\n",
       "      <td>1.0</td>\n",
       "    </tr>\n",
       "    <tr>\n",
       "      <th>3</th>\n",
       "      <td>4</td>\n",
       "      <td>Bhubaneshwar</td>\n",
       "      <td>Female</td>\n",
       "      <td>Mrs</td>\n",
       "      <td>anjali @ babli</td>\n",
       "      <td>YES</td>\n",
       "      <td>1.0</td>\n",
       "      <td>Driver</td>\n",
       "      <td>Car</td>\n",
       "      <td>2</td>\n",
       "      <td>...</td>\n",
       "      <td>98.0</td>\n",
       "      <td>167.0</td>\n",
       "      <td>275.0</td>\n",
       "      <td>64.0</td>\n",
       "      <td>60.0</td>\n",
       "      <td>27</td>\n",
       "      <td>7</td>\n",
       "      <td>700000.0</td>\n",
       "      <td>2300000</td>\n",
       "      <td>1.0</td>\n",
       "    </tr>\n",
       "    <tr>\n",
       "      <th>4</th>\n",
       "      <td>5</td>\n",
       "      <td>Bhubaneshwar</td>\n",
       "      <td>Female</td>\n",
       "      <td>Mrs</td>\n",
       "      <td>champa karketta</td>\n",
       "      <td>NO</td>\n",
       "      <td>2.0</td>\n",
       "      <td>Manufacturing</td>\n",
       "      <td>Car</td>\n",
       "      <td>2</td>\n",
       "      <td>...</td>\n",
       "      <td>21.0</td>\n",
       "      <td>153.0</td>\n",
       "      <td>331.0</td>\n",
       "      <td>71.0</td>\n",
       "      <td>64.0</td>\n",
       "      <td>32</td>\n",
       "      <td>7</td>\n",
       "      <td>3200000.0</td>\n",
       "      <td>1100000</td>\n",
       "      <td>1.0</td>\n",
       "    </tr>\n",
       "  </tbody>\n",
       "</table>\n",
       "<p>5 rows × 27 columns</p>\n",
       "</div>"
      ],
      "text/plain": [
       "   people_ID        Region  Gender Designation             Name Married  \\\n",
       "0          1  Bhubaneshwar  Female         Mrs            mansi     YES   \n",
       "1          2  Bhubaneshwar  Female         Mrs        riya masi     YES   \n",
       "2          3  Bhubaneshwar  Female         Mrs           sunita      NO   \n",
       "3          4  Bhubaneshwar  Female         Mrs   anjali @ babli     YES   \n",
       "4          5  Bhubaneshwar  Female         Mrs  champa karketta      NO   \n",
       "\n",
       "   Children     Occupation Mode_transport  cases/1M  ...  Platelets    HBB  \\\n",
       "0       1.0         Farmer         Public         2  ...      154.0   93.0   \n",
       "1       2.0         Farmer           Walk         2  ...      121.0   56.0   \n",
       "2       1.0        Cleaner         Public         2  ...      124.0  137.0   \n",
       "3       1.0         Driver            Car         2  ...       98.0  167.0   \n",
       "4       2.0  Manufacturing            Car         2  ...       21.0  153.0   \n",
       "\n",
       "   d-dimer  Heart rate HDL cholesterol Charlson Index  Blood Glucose  \\\n",
       "0    233.0        82.0            58.0             27              7   \n",
       "1    328.0        89.0            68.0              5              6   \n",
       "2    213.0        77.0            43.0             40              6   \n",
       "3    275.0        64.0            60.0             27              7   \n",
       "4    331.0        71.0            64.0             32              7   \n",
       "\n",
       "   Insurance   salary  FT/month  \n",
       "0  3600000.0  1300000       2.0  \n",
       "1  1600000.0   400000       1.0  \n",
       "2  3400000.0   900000       1.0  \n",
       "3   700000.0  2300000       1.0  \n",
       "4  3200000.0  1100000       1.0  \n",
       "\n",
       "[5 rows x 27 columns]"
      ]
     },
     "execution_count": 13,
     "metadata": {},
     "output_type": "execute_result"
    }
   ],
   "source": [
    "X.head()"
   ]
  },
  {
   "cell_type": "code",
   "execution_count": 14,
   "metadata": {},
   "outputs": [],
   "source": [
    "X.drop(['Designation','Name'],axis=1,inplace=True)"
   ]
  },
  {
   "cell_type": "code",
   "execution_count": 15,
   "metadata": {},
   "outputs": [],
   "source": [
    "X['Gender']=pd.get_dummies(X['Gender'],drop_first=True)\n",
    "X['Married']=pd.get_dummies(X['Married'],drop_first=True)"
   ]
  },
  {
   "cell_type": "code",
   "execution_count": 16,
   "metadata": {},
   "outputs": [],
   "source": [
    "Region=pd.get_dummies(df['Region'])\n",
    "X=pd.concat([X,Region],axis=1)"
   ]
  },
  {
   "cell_type": "code",
   "execution_count": 17,
   "metadata": {
    "scrolled": true
   },
   "outputs": [
    {
     "data": {
      "text/plain": [
       "people_ID                    0\n",
       "Region                       0\n",
       "Gender                       0\n",
       "Married                      0\n",
       "Children                   311\n",
       "Occupation                 747\n",
       "Mode_transport               3\n",
       "cases/1M                     0\n",
       "Deaths/1M                    0\n",
       "comorbidity                226\n",
       "Age                          0\n",
       "Coma score                   0\n",
       "Pulmonary score              0\n",
       "cardiological pressure      97\n",
       "Diuresis                   716\n",
       "Platelets                  924\n",
       "HBB                         16\n",
       "d-dimer                   1114\n",
       "Heart rate                1114\n",
       "HDL cholesterol             35\n",
       "Charlson Index               0\n",
       "Blood Glucose                0\n",
       "Insurance                 1090\n",
       "salary                       0\n",
       "FT/month                   723\n",
       "Bengaluru                    0\n",
       "Bhubaneshwar                 0\n",
       "Chandigarh                   0\n",
       "Chennai                      0\n",
       "Delhi                        0\n",
       "dtype: int64"
      ]
     },
     "execution_count": 17,
     "metadata": {},
     "output_type": "execute_result"
    }
   ],
   "source": [
    "X.isnull().sum()"
   ]
  },
  {
   "cell_type": "code",
   "execution_count": 18,
   "metadata": {},
   "outputs": [],
   "source": [
    "Occupation=pd.get_dummies(df['Occupation'])\n",
    "X=pd.concat([X,Occupation],axis=1)"
   ]
  },
  {
   "cell_type": "code",
   "execution_count": 19,
   "metadata": {},
   "outputs": [],
   "source": [
    "Mode_transport=pd.get_dummies(df['Mode_transport'])\n",
    "X=pd.concat([X,Mode_transport],axis=1)"
   ]
  },
  {
   "cell_type": "code",
   "execution_count": 20,
   "metadata": {},
   "outputs": [],
   "source": [
    "comorbidity=pd.get_dummies(df['comorbidity'])\n",
    "X=pd.concat([X,comorbidity],axis=1)"
   ]
  },
  {
   "cell_type": "code",
   "execution_count": 21,
   "metadata": {},
   "outputs": [],
   "source": [
    "cardiological_pressure=pd.get_dummies(df['cardiological pressure'])\n",
    "X=pd.concat([X,cardiological_pressure],axis=1)"
   ]
  },
  {
   "cell_type": "code",
   "execution_count": 22,
   "metadata": {},
   "outputs": [
    {
     "data": {
      "text/plain": [
       "Index(['people_ID', 'Region', 'Gender', 'Married', 'Children', 'Occupation',\n",
       "       'Mode_transport', 'cases/1M', 'Deaths/1M', 'comorbidity', 'Age',\n",
       "       'Coma score', 'Pulmonary score', 'cardiological pressure', 'Diuresis',\n",
       "       'Platelets', 'HBB', 'd-dimer', 'Heart rate', 'HDL cholesterol',\n",
       "       'Charlson Index', 'Blood Glucose', 'Insurance', 'salary', 'FT/month',\n",
       "       'Bengaluru', 'Bhubaneshwar', 'Chandigarh', 'Chennai', 'Delhi',\n",
       "       'Business', 'Cleaner', 'Clerk', 'Driver', 'Farmer', 'Legal',\n",
       "       'Manufacturing', 'Researcher', 'Sales', 'Car', 'Public', 'Walk',\n",
       "       'Coronary Heart Disease', 'Diabetes', 'Hypertension', 'None',\n",
       "       'Elevated', 'Normal', 'Stage-01', 'Stage-02'],\n",
       "      dtype='object')"
      ]
     },
     "execution_count": 22,
     "metadata": {},
     "output_type": "execute_result"
    }
   ],
   "source": [
    "X.columns"
   ]
  },
  {
   "cell_type": "code",
   "execution_count": 23,
   "metadata": {},
   "outputs": [],
   "source": [
    "X.drop(['Region','Occupation','Mode_transport','comorbidity','cardiological pressure','None'],axis=1,inplace=True)"
   ]
  },
  {
   "cell_type": "code",
   "execution_count": 24,
   "metadata": {},
   "outputs": [
    {
     "data": {
      "text/plain": [
       "Index(['people_ID', 'Gender', 'Married', 'Children', 'cases/1M', 'Deaths/1M',\n",
       "       'Age', 'Coma score', 'Pulmonary score', 'Diuresis', 'Platelets', 'HBB',\n",
       "       'd-dimer', 'Heart rate', 'HDL cholesterol', 'Charlson Index',\n",
       "       'Blood Glucose', 'Insurance', 'salary', 'FT/month', 'Bengaluru',\n",
       "       'Bhubaneshwar', 'Chandigarh', 'Chennai', 'Delhi', 'Business', 'Cleaner',\n",
       "       'Clerk', 'Driver', 'Farmer', 'Legal', 'Manufacturing', 'Researcher',\n",
       "       'Sales', 'Car', 'Public', 'Walk', 'Coronary Heart Disease', 'Diabetes',\n",
       "       'Hypertension', 'Elevated', 'Normal', 'Stage-01', 'Stage-02'],\n",
       "      dtype='object')"
      ]
     },
     "execution_count": 24,
     "metadata": {},
     "output_type": "execute_result"
    }
   ],
   "source": [
    "X.columns"
   ]
  },
  {
   "cell_type": "code",
   "execution_count": 25,
   "metadata": {},
   "outputs": [],
   "source": [
    "X['Pulmonary score']=X['Pulmonary score'].apply(lambda x : int(x.split('<')[1]) )"
   ]
  },
  {
   "cell_type": "code",
   "execution_count": 26,
   "metadata": {},
   "outputs": [
    {
     "data": {
      "text/html": [
       "<div>\n",
       "<style scoped>\n",
       "    .dataframe tbody tr th:only-of-type {\n",
       "        vertical-align: middle;\n",
       "    }\n",
       "\n",
       "    .dataframe tbody tr th {\n",
       "        vertical-align: top;\n",
       "    }\n",
       "\n",
       "    .dataframe thead th {\n",
       "        text-align: right;\n",
       "    }\n",
       "</style>\n",
       "<table border=\"1\" class=\"dataframe\">\n",
       "  <thead>\n",
       "    <tr style=\"text-align: right;\">\n",
       "      <th></th>\n",
       "      <th>people_ID</th>\n",
       "      <th>Gender</th>\n",
       "      <th>Married</th>\n",
       "      <th>Children</th>\n",
       "      <th>cases/1M</th>\n",
       "      <th>Deaths/1M</th>\n",
       "      <th>Age</th>\n",
       "      <th>Coma score</th>\n",
       "      <th>Pulmonary score</th>\n",
       "      <th>Diuresis</th>\n",
       "      <th>...</th>\n",
       "      <th>Car</th>\n",
       "      <th>Public</th>\n",
       "      <th>Walk</th>\n",
       "      <th>Coronary Heart Disease</th>\n",
       "      <th>Diabetes</th>\n",
       "      <th>Hypertension</th>\n",
       "      <th>Elevated</th>\n",
       "      <th>Normal</th>\n",
       "      <th>Stage-01</th>\n",
       "      <th>Stage-02</th>\n",
       "    </tr>\n",
       "  </thead>\n",
       "  <tbody>\n",
       "    <tr>\n",
       "      <th>0</th>\n",
       "      <td>1</td>\n",
       "      <td>0</td>\n",
       "      <td>1</td>\n",
       "      <td>1.0</td>\n",
       "      <td>2</td>\n",
       "      <td>0</td>\n",
       "      <td>68</td>\n",
       "      <td>8</td>\n",
       "      <td>400</td>\n",
       "      <td>441.0</td>\n",
       "      <td>...</td>\n",
       "      <td>0</td>\n",
       "      <td>1</td>\n",
       "      <td>0</td>\n",
       "      <td>0</td>\n",
       "      <td>0</td>\n",
       "      <td>1</td>\n",
       "      <td>0</td>\n",
       "      <td>1</td>\n",
       "      <td>0</td>\n",
       "      <td>0</td>\n",
       "    </tr>\n",
       "    <tr>\n",
       "      <th>1</th>\n",
       "      <td>2</td>\n",
       "      <td>0</td>\n",
       "      <td>1</td>\n",
       "      <td>2.0</td>\n",
       "      <td>2</td>\n",
       "      <td>0</td>\n",
       "      <td>64</td>\n",
       "      <td>15</td>\n",
       "      <td>100</td>\n",
       "      <td>NaN</td>\n",
       "      <td>...</td>\n",
       "      <td>0</td>\n",
       "      <td>0</td>\n",
       "      <td>1</td>\n",
       "      <td>0</td>\n",
       "      <td>1</td>\n",
       "      <td>0</td>\n",
       "      <td>0</td>\n",
       "      <td>0</td>\n",
       "      <td>0</td>\n",
       "      <td>1</td>\n",
       "    </tr>\n",
       "    <tr>\n",
       "      <th>2</th>\n",
       "      <td>3</td>\n",
       "      <td>0</td>\n",
       "      <td>0</td>\n",
       "      <td>1.0</td>\n",
       "      <td>2</td>\n",
       "      <td>0</td>\n",
       "      <td>19</td>\n",
       "      <td>13</td>\n",
       "      <td>300</td>\n",
       "      <td>416.0</td>\n",
       "      <td>...</td>\n",
       "      <td>0</td>\n",
       "      <td>1</td>\n",
       "      <td>0</td>\n",
       "      <td>0</td>\n",
       "      <td>0</td>\n",
       "      <td>0</td>\n",
       "      <td>1</td>\n",
       "      <td>0</td>\n",
       "      <td>0</td>\n",
       "      <td>0</td>\n",
       "    </tr>\n",
       "    <tr>\n",
       "      <th>3</th>\n",
       "      <td>4</td>\n",
       "      <td>0</td>\n",
       "      <td>1</td>\n",
       "      <td>1.0</td>\n",
       "      <td>2</td>\n",
       "      <td>0</td>\n",
       "      <td>33</td>\n",
       "      <td>9</td>\n",
       "      <td>200</td>\n",
       "      <td>410.0</td>\n",
       "      <td>...</td>\n",
       "      <td>1</td>\n",
       "      <td>0</td>\n",
       "      <td>0</td>\n",
       "      <td>1</td>\n",
       "      <td>0</td>\n",
       "      <td>0</td>\n",
       "      <td>0</td>\n",
       "      <td>0</td>\n",
       "      <td>1</td>\n",
       "      <td>0</td>\n",
       "    </tr>\n",
       "    <tr>\n",
       "      <th>4</th>\n",
       "      <td>5</td>\n",
       "      <td>0</td>\n",
       "      <td>0</td>\n",
       "      <td>2.0</td>\n",
       "      <td>2</td>\n",
       "      <td>0</td>\n",
       "      <td>23</td>\n",
       "      <td>7</td>\n",
       "      <td>400</td>\n",
       "      <td>390.0</td>\n",
       "      <td>...</td>\n",
       "      <td>1</td>\n",
       "      <td>0</td>\n",
       "      <td>0</td>\n",
       "      <td>0</td>\n",
       "      <td>1</td>\n",
       "      <td>0</td>\n",
       "      <td>0</td>\n",
       "      <td>1</td>\n",
       "      <td>0</td>\n",
       "      <td>0</td>\n",
       "    </tr>\n",
       "  </tbody>\n",
       "</table>\n",
       "<p>5 rows × 44 columns</p>\n",
       "</div>"
      ],
      "text/plain": [
       "   people_ID  Gender  Married  Children  cases/1M  Deaths/1M  Age  Coma score  \\\n",
       "0          1       0        1       1.0         2          0   68           8   \n",
       "1          2       0        1       2.0         2          0   64          15   \n",
       "2          3       0        0       1.0         2          0   19          13   \n",
       "3          4       0        1       1.0         2          0   33           9   \n",
       "4          5       0        0       2.0         2          0   23           7   \n",
       "\n",
       "   Pulmonary score  Diuresis  ...  Car  Public  Walk  Coronary Heart Disease  \\\n",
       "0              400     441.0  ...    0       1     0                       0   \n",
       "1              100       NaN  ...    0       0     1                       0   \n",
       "2              300     416.0  ...    0       1     0                       0   \n",
       "3              200     410.0  ...    1       0     0                       1   \n",
       "4              400     390.0  ...    1       0     0                       0   \n",
       "\n",
       "   Diabetes  Hypertension  Elevated  Normal  Stage-01  Stage-02  \n",
       "0         0             1         0       1         0         0  \n",
       "1         1             0         0       0         0         1  \n",
       "2         0             0         1       0         0         0  \n",
       "3         0             0         0       0         1         0  \n",
       "4         1             0         0       1         0         0  \n",
       "\n",
       "[5 rows x 44 columns]"
      ]
     },
     "execution_count": 26,
     "metadata": {},
     "output_type": "execute_result"
    }
   ],
   "source": [
    "X.head()"
   ]
  },
  {
   "cell_type": "code",
   "execution_count": 27,
   "metadata": {},
   "outputs": [],
   "source": [
    "#Checking null values\n",
    "X['Insurance']=X['Insurance'].fillna(0) "
   ]
  },
  {
   "cell_type": "code",
   "execution_count": 28,
   "metadata": {},
   "outputs": [
    {
     "data": {
      "text/plain": [
       "people_ID                    0\n",
       "Gender                       0\n",
       "Married                      0\n",
       "Children                   311\n",
       "cases/1M                     0\n",
       "Deaths/1M                    0\n",
       "Age                          0\n",
       "Coma score                   0\n",
       "Pulmonary score              0\n",
       "Diuresis                   716\n",
       "Platelets                  924\n",
       "HBB                         16\n",
       "d-dimer                   1114\n",
       "Heart rate                1114\n",
       "HDL cholesterol             35\n",
       "Charlson Index               0\n",
       "Blood Glucose                0\n",
       "Insurance                    0\n",
       "salary                       0\n",
       "FT/month                   723\n",
       "Bengaluru                    0\n",
       "Bhubaneshwar                 0\n",
       "Chandigarh                   0\n",
       "Chennai                      0\n",
       "Delhi                        0\n",
       "Business                     0\n",
       "Cleaner                      0\n",
       "Clerk                        0\n",
       "Driver                       0\n",
       "Farmer                       0\n",
       "Legal                        0\n",
       "Manufacturing                0\n",
       "Researcher                   0\n",
       "Sales                        0\n",
       "Car                          0\n",
       "Public                       0\n",
       "Walk                         0\n",
       "Coronary Heart Disease       0\n",
       "Diabetes                     0\n",
       "Hypertension                 0\n",
       "Elevated                     0\n",
       "Normal                       0\n",
       "Stage-01                     0\n",
       "Stage-02                     0\n",
       "dtype: int64"
      ]
     },
     "execution_count": 28,
     "metadata": {},
     "output_type": "execute_result"
    }
   ],
   "source": [
    "#confirming number of null values\n",
    "X.isnull().sum()"
   ]
  },
  {
   "cell_type": "code",
   "execution_count": 29,
   "metadata": {},
   "outputs": [
    {
     "data": {
      "text/plain": [
       "people_ID                 1.008489e+04\n",
       "Gender                    4.938398e-01\n",
       "Married                   7.915811e-01\n",
       "Children                  1.062770e+00\n",
       "cases/1M                  3.285888e+00\n",
       "Deaths/1M                 5.232406e-01\n",
       "Age                       4.208372e+01\n",
       "Coma score                9.013067e+00\n",
       "Pulmonary score           2.505040e+02\n",
       "Diuresis                  2.788063e+02\n",
       "Platelets                 8.779581e+01\n",
       "HBB                       1.161710e+02\n",
       "d-dimer                   2.752923e+02\n",
       "Heart rate                7.484740e+01\n",
       "HDL cholesterol           5.263274e+01\n",
       "Charlson Index            2.002809e+01\n",
       "Blood Glucose             5.015027e+00\n",
       "Insurance                 2.375835e+06\n",
       "salary                    1.304713e+06\n",
       "FT/month                  1.004604e+00\n",
       "Bengaluru                 2.401531e-01\n",
       "Bhubaneshwar              2.367930e-01\n",
       "Chandigarh                2.392197e-01\n",
       "Chennai                   2.408998e-01\n",
       "Delhi                     4.293448e-02\n",
       "Business                  9.828262e-02\n",
       "Cleaner                   1.036961e-01\n",
       "Clerk                     1.006160e-01\n",
       "Driver                    1.000560e-01\n",
       "Farmer                    1.038828e-01\n",
       "Legal                     1.095763e-01\n",
       "Manufacturing             1.045361e-01\n",
       "Researcher                1.040694e-01\n",
       "Sales                     1.055628e-01\n",
       "Car                       3.318088e-01\n",
       "Public                    3.348889e-01\n",
       "Walk                      3.330222e-01\n",
       "Coronary Heart Disease    2.422065e-01\n",
       "Diabetes                  2.439798e-01\n",
       "Hypertension              2.465932e-01\n",
       "Elevated                  2.464999e-01\n",
       "Normal                    2.502333e-01\n",
       "Stage-01                  2.479933e-01\n",
       "Stage-02                  2.462199e-01\n",
       "dtype: float64"
      ]
     },
     "execution_count": 29,
     "metadata": {},
     "output_type": "execute_result"
    }
   ],
   "source": [
    "#mean of every row\n",
    "X.mean()"
   ]
  },
  {
   "cell_type": "code",
   "execution_count": 30,
   "metadata": {},
   "outputs": [],
   "source": [
    "X['Diuresis']=X['Diuresis'].fillna(278)"
   ]
  },
  {
   "cell_type": "code",
   "execution_count": 31,
   "metadata": {},
   "outputs": [],
   "source": [
    "X['Platelets']=X['Platelets'].fillna(87)"
   ]
  },
  {
   "cell_type": "code",
   "execution_count": 32,
   "metadata": {},
   "outputs": [],
   "source": [
    "X['HBB']=X['HBB'].fillna(161)"
   ]
  },
  {
   "cell_type": "code",
   "execution_count": 33,
   "metadata": {},
   "outputs": [],
   "source": [
    "X['d-dimer']=X['d-dimer'].fillna(275)"
   ]
  },
  {
   "cell_type": "code",
   "execution_count": 34,
   "metadata": {},
   "outputs": [],
   "source": [
    "X['Heart rate']=X['Heart rate'].fillna(74)"
   ]
  },
  {
   "cell_type": "code",
   "execution_count": 35,
   "metadata": {},
   "outputs": [],
   "source": [
    "X['HDL cholesterol']=X['HDL cholesterol'].fillna(52)"
   ]
  },
  {
   "cell_type": "code",
   "execution_count": 36,
   "metadata": {},
   "outputs": [],
   "source": [
    "X['FT/month']=X['FT/month'].fillna(0)"
   ]
  },
  {
   "cell_type": "code",
   "execution_count": 37,
   "metadata": {},
   "outputs": [],
   "source": [
    "X['Children']=X['Children'].fillna(0)"
   ]
  },
  {
   "cell_type": "code",
   "execution_count": 38,
   "metadata": {},
   "outputs": [
    {
     "data": {
      "text/plain": [
       "people_ID                 0\n",
       "Gender                    0\n",
       "Married                   0\n",
       "Children                  0\n",
       "cases/1M                  0\n",
       "Deaths/1M                 0\n",
       "Age                       0\n",
       "Coma score                0\n",
       "Pulmonary score           0\n",
       "Diuresis                  0\n",
       "Platelets                 0\n",
       "HBB                       0\n",
       "d-dimer                   0\n",
       "Heart rate                0\n",
       "HDL cholesterol           0\n",
       "Charlson Index            0\n",
       "Blood Glucose             0\n",
       "Insurance                 0\n",
       "salary                    0\n",
       "FT/month                  0\n",
       "Bengaluru                 0\n",
       "Bhubaneshwar              0\n",
       "Chandigarh                0\n",
       "Chennai                   0\n",
       "Delhi                     0\n",
       "Business                  0\n",
       "Cleaner                   0\n",
       "Clerk                     0\n",
       "Driver                    0\n",
       "Farmer                    0\n",
       "Legal                     0\n",
       "Manufacturing             0\n",
       "Researcher                0\n",
       "Sales                     0\n",
       "Car                       0\n",
       "Public                    0\n",
       "Walk                      0\n",
       "Coronary Heart Disease    0\n",
       "Diabetes                  0\n",
       "Hypertension              0\n",
       "Elevated                  0\n",
       "Normal                    0\n",
       "Stage-01                  0\n",
       "Stage-02                  0\n",
       "dtype: int64"
      ]
     },
     "execution_count": 38,
     "metadata": {},
     "output_type": "execute_result"
    }
   ],
   "source": [
    "#confirming no null values\n",
    "X.isnull().sum()"
   ]
  },
  {
   "cell_type": "code",
   "execution_count": null,
   "metadata": {},
   "outputs": [],
   "source": []
  },
  {
   "cell_type": "code",
   "execution_count": 39,
   "metadata": {},
   "outputs": [
    {
     "data": {
      "text/html": [
       "<div>\n",
       "<style scoped>\n",
       "    .dataframe tbody tr th:only-of-type {\n",
       "        vertical-align: middle;\n",
       "    }\n",
       "\n",
       "    .dataframe tbody tr th {\n",
       "        vertical-align: top;\n",
       "    }\n",
       "\n",
       "    .dataframe thead th {\n",
       "        text-align: right;\n",
       "    }\n",
       "</style>\n",
       "<table border=\"1\" class=\"dataframe\">\n",
       "  <thead>\n",
       "    <tr style=\"text-align: right;\">\n",
       "      <th></th>\n",
       "      <th>people_ID</th>\n",
       "      <th>Gender</th>\n",
       "      <th>Married</th>\n",
       "      <th>Children</th>\n",
       "      <th>cases/1M</th>\n",
       "      <th>Deaths/1M</th>\n",
       "      <th>Age</th>\n",
       "      <th>Coma score</th>\n",
       "      <th>Pulmonary score</th>\n",
       "      <th>Diuresis</th>\n",
       "      <th>...</th>\n",
       "      <th>Car</th>\n",
       "      <th>Public</th>\n",
       "      <th>Walk</th>\n",
       "      <th>Coronary Heart Disease</th>\n",
       "      <th>Diabetes</th>\n",
       "      <th>Hypertension</th>\n",
       "      <th>Elevated</th>\n",
       "      <th>Normal</th>\n",
       "      <th>Stage-01</th>\n",
       "      <th>Stage-02</th>\n",
       "    </tr>\n",
       "  </thead>\n",
       "  <tbody>\n",
       "    <tr>\n",
       "      <th>0</th>\n",
       "      <td>1</td>\n",
       "      <td>0</td>\n",
       "      <td>1</td>\n",
       "      <td>1.0</td>\n",
       "      <td>2</td>\n",
       "      <td>0</td>\n",
       "      <td>68</td>\n",
       "      <td>8</td>\n",
       "      <td>400</td>\n",
       "      <td>441.0</td>\n",
       "      <td>...</td>\n",
       "      <td>0</td>\n",
       "      <td>1</td>\n",
       "      <td>0</td>\n",
       "      <td>0</td>\n",
       "      <td>0</td>\n",
       "      <td>1</td>\n",
       "      <td>0</td>\n",
       "      <td>1</td>\n",
       "      <td>0</td>\n",
       "      <td>0</td>\n",
       "    </tr>\n",
       "    <tr>\n",
       "      <th>1</th>\n",
       "      <td>2</td>\n",
       "      <td>0</td>\n",
       "      <td>1</td>\n",
       "      <td>2.0</td>\n",
       "      <td>2</td>\n",
       "      <td>0</td>\n",
       "      <td>64</td>\n",
       "      <td>15</td>\n",
       "      <td>100</td>\n",
       "      <td>278.0</td>\n",
       "      <td>...</td>\n",
       "      <td>0</td>\n",
       "      <td>0</td>\n",
       "      <td>1</td>\n",
       "      <td>0</td>\n",
       "      <td>1</td>\n",
       "      <td>0</td>\n",
       "      <td>0</td>\n",
       "      <td>0</td>\n",
       "      <td>0</td>\n",
       "      <td>1</td>\n",
       "    </tr>\n",
       "    <tr>\n",
       "      <th>2</th>\n",
       "      <td>3</td>\n",
       "      <td>0</td>\n",
       "      <td>0</td>\n",
       "      <td>1.0</td>\n",
       "      <td>2</td>\n",
       "      <td>0</td>\n",
       "      <td>19</td>\n",
       "      <td>13</td>\n",
       "      <td>300</td>\n",
       "      <td>416.0</td>\n",
       "      <td>...</td>\n",
       "      <td>0</td>\n",
       "      <td>1</td>\n",
       "      <td>0</td>\n",
       "      <td>0</td>\n",
       "      <td>0</td>\n",
       "      <td>0</td>\n",
       "      <td>1</td>\n",
       "      <td>0</td>\n",
       "      <td>0</td>\n",
       "      <td>0</td>\n",
       "    </tr>\n",
       "    <tr>\n",
       "      <th>3</th>\n",
       "      <td>4</td>\n",
       "      <td>0</td>\n",
       "      <td>1</td>\n",
       "      <td>1.0</td>\n",
       "      <td>2</td>\n",
       "      <td>0</td>\n",
       "      <td>33</td>\n",
       "      <td>9</td>\n",
       "      <td>200</td>\n",
       "      <td>410.0</td>\n",
       "      <td>...</td>\n",
       "      <td>1</td>\n",
       "      <td>0</td>\n",
       "      <td>0</td>\n",
       "      <td>1</td>\n",
       "      <td>0</td>\n",
       "      <td>0</td>\n",
       "      <td>0</td>\n",
       "      <td>0</td>\n",
       "      <td>1</td>\n",
       "      <td>0</td>\n",
       "    </tr>\n",
       "    <tr>\n",
       "      <th>4</th>\n",
       "      <td>5</td>\n",
       "      <td>0</td>\n",
       "      <td>0</td>\n",
       "      <td>2.0</td>\n",
       "      <td>2</td>\n",
       "      <td>0</td>\n",
       "      <td>23</td>\n",
       "      <td>7</td>\n",
       "      <td>400</td>\n",
       "      <td>390.0</td>\n",
       "      <td>...</td>\n",
       "      <td>1</td>\n",
       "      <td>0</td>\n",
       "      <td>0</td>\n",
       "      <td>0</td>\n",
       "      <td>1</td>\n",
       "      <td>0</td>\n",
       "      <td>0</td>\n",
       "      <td>1</td>\n",
       "      <td>0</td>\n",
       "      <td>0</td>\n",
       "    </tr>\n",
       "  </tbody>\n",
       "</table>\n",
       "<p>5 rows × 44 columns</p>\n",
       "</div>"
      ],
      "text/plain": [
       "   people_ID  Gender  Married  Children  cases/1M  Deaths/1M  Age  Coma score  \\\n",
       "0          1       0        1       1.0         2          0   68           8   \n",
       "1          2       0        1       2.0         2          0   64          15   \n",
       "2          3       0        0       1.0         2          0   19          13   \n",
       "3          4       0        1       1.0         2          0   33           9   \n",
       "4          5       0        0       2.0         2          0   23           7   \n",
       "\n",
       "   Pulmonary score  Diuresis  ...  Car  Public  Walk  Coronary Heart Disease  \\\n",
       "0              400     441.0  ...    0       1     0                       0   \n",
       "1              100     278.0  ...    0       0     1                       0   \n",
       "2              300     416.0  ...    0       1     0                       0   \n",
       "3              200     410.0  ...    1       0     0                       1   \n",
       "4              400     390.0  ...    1       0     0                       0   \n",
       "\n",
       "   Diabetes  Hypertension  Elevated  Normal  Stage-01  Stage-02  \n",
       "0         0             1         0       1         0         0  \n",
       "1         1             0         0       0         0         1  \n",
       "2         0             0         1       0         0         0  \n",
       "3         0             0         0       0         1         0  \n",
       "4         1             0         0       1         0         0  \n",
       "\n",
       "[5 rows x 44 columns]"
      ]
     },
     "execution_count": 39,
     "metadata": {},
     "output_type": "execute_result"
    }
   ],
   "source": [
    "X.head()"
   ]
  },
  {
   "cell_type": "code",
   "execution_count": 41,
   "metadata": {},
   "outputs": [],
   "source": [
    "#X \n",
    "#y\n",
    "#to be used for model training\n",
    "from sklearn import preprocessing"
   ]
  },
  {
   "cell_type": "code",
   "execution_count": null,
   "metadata": {},
   "outputs": [],
   "source": []
  },
  {
   "cell_type": "code",
   "execution_count": null,
   "metadata": {},
   "outputs": [],
   "source": []
  },
  {
   "cell_type": "code",
   "execution_count": null,
   "metadata": {},
   "outputs": [],
   "source": []
  },
  {
   "cell_type": "markdown",
   "metadata": {},
   "source": [
    "# Training models\n"
   ]
  },
  {
   "cell_type": "markdown",
   "metadata": {},
   "source": [
    "### Linear Regression"
   ]
  },
  {
   "cell_type": "code",
   "execution_count": 42,
   "metadata": {},
   "outputs": [],
   "source": [
    "X_model1 = X.drop(['Normal','Diabetes','Stage-01','Charlson Index','Heart rate','Pulmonary score','Blood Glucose','Car','Walk','Public'    ,'Gender','Stage-02','Elevated','Coronary Heart Disease','people_ID','Hypertension','Insurance','FT/month','Age','Diuresis'],axis=1)\n",
    "y_model1 = y"
   ]
  },
  {
   "cell_type": "code",
   "execution_count": 43,
   "metadata": {},
   "outputs": [],
   "source": [
    "from sklearn.model_selection import train_test_split\n",
    "X_train, X_test, y_train, y_test = train_test_split(X_model1, y_model1, test_size=0.8, random_state=42)\n",
    "from sklearn.linear_model import LinearRegression\n",
    "lm=LinearRegression()\n",
    "lm.fit(X_train,y_train)\n",
    "pred=lm.predict(X_test)"
   ]
  },
  {
   "cell_type": "code",
   "execution_count": 44,
   "metadata": {},
   "outputs": [],
   "source": [
    "import matplotlib.pyplot as plt\n",
    "import seaborn as sns\n",
    "%matplotlib inline"
   ]
  },
  {
   "cell_type": "code",
   "execution_count": 45,
   "metadata": {},
   "outputs": [],
   "source": [
    "from sklearn.metrics import mean_absolute_error,mean_squared_error"
   ]
  },
  {
   "cell_type": "code",
   "execution_count": 46,
   "metadata": {},
   "outputs": [
    {
     "data": {
      "text/plain": [
       "9.057235780480156"
      ]
     },
     "execution_count": 46,
     "metadata": {},
     "output_type": "execute_result"
    }
   ],
   "source": [
    "from numpy import sqrt\n",
    "sqrt(mean_squared_error(y_test,pred))"
   ]
  },
  {
   "cell_type": "code",
   "execution_count": 47,
   "metadata": {},
   "outputs": [
    {
     "data": {
      "text/plain": [
       "0.2929072769912314"
      ]
     },
     "execution_count": 47,
     "metadata": {},
     "output_type": "execute_result"
    }
   ],
   "source": [
    "lm.score(X_train,y_train)"
   ]
  },
  {
   "cell_type": "code",
   "execution_count": 48,
   "metadata": {},
   "outputs": [
    {
     "name": "stdout",
     "output_type": "stream",
     "text": [
      "AcAcuracy: 90.97 %.\n"
     ]
    }
   ],
   "source": [
    "predictions = lm.predict(X_test)\n",
    "errors = abs(predictions - y_test)\n",
    "mape = np.mean(100 * (errors / y_test))\n",
    "accuracy = 100 - mape\n",
    "print('AcAcuracy:', round(accuracy, 2), '%.')"
   ]
  },
  {
   "cell_type": "code",
   "execution_count": 50,
   "metadata": {},
   "outputs": [],
   "source": [
    "import statsmodels.api as sm"
   ]
  },
  {
   "cell_type": "code",
   "execution_count": 51,
   "metadata": {
    "scrolled": true
   },
   "outputs": [
    {
     "name": "stdout",
     "output_type": "stream",
     "text": [
      "                            OLS Regression Results                            \n",
      "==============================================================================\n",
      "Dep. Variable:            Infect_Prob   R-squared:                       0.284\n",
      "Model:                            OLS   Adj. R-squared:                  0.283\n",
      "Method:                 Least Squares   F-statistic:                     202.4\n",
      "Date:                Sun, 29 Nov 2020   Prob (F-statistic):               0.00\n",
      "Time:                        23:42:38   Log-Likelihood:                -38779.\n",
      "No. Observations:               10714   AIC:                         7.760e+04\n",
      "Df Residuals:                   10692   BIC:                         7.776e+04\n",
      "Df Model:                          21                                         \n",
      "Covariance Type:            nonrobust                                         \n",
      "===================================================================================\n",
      "                      coef    std err          t      P>|t|      [0.025      0.975]\n",
      "-----------------------------------------------------------------------------------\n",
      "const              31.5040      0.528     59.631      0.000      30.468      32.540\n",
      "Married           -11.8781      0.239    -49.649      0.000     -12.347     -11.409\n",
      "Children            2.2800      0.116     19.599      0.000       2.052       2.508\n",
      "cases/1M            7.3650      0.113     65.168      0.000       7.144       7.587\n",
      "Deaths/1M         -11.1192      0.196    -56.686      0.000     -11.504     -10.735\n",
      "Coma score          0.1105      0.024      4.690      0.000       0.064       0.157\n",
      "Platelets           0.0165      0.002      7.507      0.000       0.012       0.021\n",
      "HBB                 0.0043      0.002      2.703      0.007       0.001       0.007\n",
      "d-dimer             0.0042      0.002      1.982      0.048    4.53e-05       0.008\n",
      "HDL cholesterol     0.0175      0.008      2.076      0.038       0.001       0.034\n",
      "salary          -3.666e-07   1.44e-07     -2.549      0.011   -6.49e-07   -8.46e-08\n",
      "Bengaluru          -8.6122      0.215    -40.114      0.000      -9.033      -8.191\n",
      "Bhubaneshwar        8.7495      0.212     41.366      0.000       8.335       9.164\n",
      "Chandigarh          9.0814      0.212     42.778      0.000       8.665       9.498\n",
      "Chennai            16.1801      0.294     55.009      0.000      15.604      16.757\n",
      "Delhi               6.1052      0.369     16.533      0.000       5.381       6.829\n",
      "Business           -1.4394      0.485     -2.968      0.003      -2.390      -0.489\n",
      "Cleaner            -1.6750      0.481     -3.482      0.001      -2.618      -0.732\n",
      "Clerk              -1.3305      0.484     -2.748      0.006      -2.280      -0.381\n",
      "Driver             -1.3617      0.483     -2.821      0.005      -2.308      -0.415\n",
      "Farmer             -2.4733      0.478     -5.178      0.000      -3.410      -1.537\n",
      "Legal              -1.8289      0.475     -3.851      0.000      -2.760      -0.898\n",
      "Manufacturing      -1.4828      0.478     -3.099      0.002      -2.421      -0.545\n",
      "Researcher         -1.1435      0.480     -2.383      0.017      -2.084      -0.203\n",
      "Sales              -1.0168      0.480     -2.120      0.034      -1.957      -0.077\n",
      "==============================================================================\n",
      "Omnibus:                     1456.306   Durbin-Watson:                   1.985\n",
      "Prob(Omnibus):                  0.000   Jarque-Bera (JB):            13453.076\n",
      "Skew:                           0.341   Prob(JB):                         0.00\n",
      "Kurtosis:                       8.447   Cond. No.                     3.34e+20\n",
      "==============================================================================\n",
      "\n",
      "Notes:\n",
      "[1] Standard Errors assume that the covariance matrix of the errors is correctly specified.\n",
      "[2] The smallest eigenvalue is 1.98e-25. This might indicate that there are\n",
      "strong multicollinearity problems or that the design matrix is singular.\n"
     ]
    }
   ],
   "source": [
    "X2=sm.add_constant(X_model1)\n",
    "est=sm.OLS(y,X2)\n",
    "est2=est.fit()\n",
    "print(est2.summary())"
   ]
  },
  {
   "cell_type": "code",
   "execution_count": null,
   "metadata": {},
   "outputs": [],
   "source": []
  },
  {
   "cell_type": "markdown",
   "metadata": {},
   "source": [
    "### Decision tree "
   ]
  },
  {
   "cell_type": "code",
   "execution_count": 52,
   "metadata": {},
   "outputs": [],
   "source": [
    "from sklearn.ensemble import BaggingClassifier\n",
    "from sklearn.tree import DecisionTreeRegressor\n",
    "from sklearn.ensemble import RandomForestRegressor"
   ]
  },
  {
   "cell_type": "code",
   "execution_count": 53,
   "metadata": {},
   "outputs": [],
   "source": [
    "dtree=DecisionTreeRegressor()"
   ]
  },
  {
   "cell_type": "code",
   "execution_count": 54,
   "metadata": {},
   "outputs": [
    {
     "data": {
      "text/plain": [
       "DecisionTreeRegressor()"
      ]
     },
     "execution_count": 54,
     "metadata": {},
     "output_type": "execute_result"
    }
   ],
   "source": [
    "dtree.fit(X_train,y_train)"
   ]
  },
  {
   "cell_type": "code",
   "execution_count": 55,
   "metadata": {},
   "outputs": [],
   "source": [
    "pred=dtree.predict(X_test)"
   ]
  },
  {
   "cell_type": "code",
   "execution_count": 56,
   "metadata": {},
   "outputs": [
    {
     "data": {
      "text/plain": [
       "12.778461215930488"
      ]
     },
     "execution_count": 56,
     "metadata": {},
     "output_type": "execute_result"
    }
   ],
   "source": [
    "sqrt(mean_squared_error(y_test,pred))"
   ]
  },
  {
   "cell_type": "code",
   "execution_count": 57,
   "metadata": {},
   "outputs": [
    {
     "data": {
      "text/plain": [
       "1.0"
      ]
     },
     "execution_count": 57,
     "metadata": {},
     "output_type": "execute_result"
    }
   ],
   "source": [
    "dtree.score(X_train,y_train)"
   ]
  },
  {
   "cell_type": "code",
   "execution_count": 58,
   "metadata": {},
   "outputs": [
    {
     "name": "stdout",
     "output_type": "stream",
     "text": [
      "Accuracy: 90.71 %.\n"
     ]
    }
   ],
   "source": [
    "predictions = dtree.predict(X_test)\n",
    "errors = abs(predictions - y_test)\n",
    "mape = np.mean(100 * (errors / y_test))\n",
    "accuracy = 100 - mape\n",
    "print('Accuracy:', round(accuracy, 2), '%.')"
   ]
  },
  {
   "cell_type": "markdown",
   "metadata": {},
   "source": [
    "###  random forest"
   ]
  },
  {
   "cell_type": "code",
   "execution_count": 66,
   "metadata": {},
   "outputs": [],
   "source": [
    "rfc=RandomForestRegressor(n_estimators=100)"
   ]
  },
  {
   "cell_type": "code",
   "execution_count": 67,
   "metadata": {},
   "outputs": [
    {
     "data": {
      "text/plain": [
       "RandomForestRegressor()"
      ]
     },
     "execution_count": 67,
     "metadata": {},
     "output_type": "execute_result"
    }
   ],
   "source": [
    "rfc.fit(X_train,y_train)"
   ]
  },
  {
   "cell_type": "code",
   "execution_count": 76,
   "metadata": {},
   "outputs": [
    {
     "name": "stdout",
     "output_type": "stream",
     "text": [
      "47.2440714814\n"
     ]
    }
   ],
   "source": [
    "pred=rfc.predict(X_test)[0]\n",
    "print(pred)"
   ]
  },
  {
   "cell_type": "code",
   "execution_count": null,
   "metadata": {},
   "outputs": [],
   "source": [
    "rfc.score(X_train,y_train)\n"
   ]
  },
  {
   "cell_type": "code",
   "execution_count": 74,
   "metadata": {},
   "outputs": [
    {
     "data": {
      "text/plain": [
       "9.218630255371433"
      ]
     },
     "execution_count": 74,
     "metadata": {},
     "output_type": "execute_result"
    }
   ],
   "source": [
    "sqrt(mean_squared_error(y_test,pred))"
   ]
  },
  {
   "cell_type": "code",
   "execution_count": 71,
   "metadata": {},
   "outputs": [
    {
     "name": "stdout",
     "output_type": "stream",
     "text": [
      "Accuracy: 92.84 %.\n",
      "[47.24407148 48.69447947 47.76490423 ... 45.46490108 49.73668907\n",
      " 49.22267973]\n"
     ]
    }
   ],
   "source": [
    "predictions = rfc.predict(X_test)\n",
    "errors = abs(predictions - y_test)\n",
    "mape = np.mean(100 * (errors / y_test))\n",
    "accuracy = 100 - mape\n",
    "print('Accuracy:', round(accuracy, 2), '%.')\n",
    "print(predictions)"
   ]
  },
  {
   "cell_type": "markdown",
   "metadata": {},
   "source": [
    "### ADABOOST"
   ]
  },
  {
   "cell_type": "code",
   "execution_count": 67,
   "metadata": {},
   "outputs": [],
   "source": [
    "from sklearn.ensemble import AdaBoostRegressor"
   ]
  },
  {
   "cell_type": "code",
   "execution_count": 68,
   "metadata": {},
   "outputs": [],
   "source": [
    "ada=AdaBoostRegressor(n_estimators=100)"
   ]
  },
  {
   "cell_type": "code",
   "execution_count": 69,
   "metadata": {},
   "outputs": [
    {
     "data": {
      "text/plain": [
       "AdaBoostRegressor(base_estimator=None, learning_rate=1.0, loss='linear',\n",
       "         n_estimators=100, random_state=None)"
      ]
     },
     "execution_count": 69,
     "metadata": {},
     "output_type": "execute_result"
    }
   ],
   "source": [
    "ada.fit(X_train,y_train)"
   ]
  },
  {
   "cell_type": "code",
   "execution_count": 70,
   "metadata": {},
   "outputs": [
    {
     "data": {
      "text/plain": [
       "9.005862441651454"
      ]
     },
     "execution_count": 70,
     "metadata": {},
     "output_type": "execute_result"
    }
   ],
   "source": [
    "sqrt(mean_squared_error(y_test,ada.predict(X_test)))"
   ]
  },
  {
   "cell_type": "code",
   "execution_count": 71,
   "metadata": {},
   "outputs": [
    {
     "name": "stdout",
     "output_type": "stream",
     "text": [
      "Accuracy: 91.39 %.\n"
     ]
    }
   ],
   "source": [
    "predictions = ada.predict(X_test)\n",
    "errors = abs(predictions - y_test)\n",
    "mape = np.mean(100 * (errors / y_test))\n",
    "accuracy = 100 - mape\n",
    "print('Accuracy:', round(accuracy, 2), '%.')"
   ]
  },
  {
   "cell_type": "code",
   "execution_count": 72,
   "metadata": {},
   "outputs": [
    {
     "data": {
      "text/plain": [
       "0.3098136738600933"
      ]
     },
     "execution_count": 72,
     "metadata": {},
     "output_type": "execute_result"
    }
   ],
   "source": [
    "ada.score(X_train,y_train)"
   ]
  },
  {
   "cell_type": "markdown",
   "metadata": {},
   "source": [
    "### GradientBoostingRegressor"
   ]
  },
  {
   "cell_type": "code",
   "execution_count": 73,
   "metadata": {},
   "outputs": [],
   "source": [
    "from sklearn.ensemble import GradientBoostingRegressor"
   ]
  },
  {
   "cell_type": "code",
   "execution_count": 74,
   "metadata": {},
   "outputs": [],
   "source": [
    "gbr=GradientBoostingRegressor(n_estimators=100, learning_rate=0.1, max_depth=1, random_state=0, loss='ls')"
   ]
  },
  {
   "cell_type": "code",
   "execution_count": 75,
   "metadata": {},
   "outputs": [
    {
     "data": {
      "text/plain": [
       "GradientBoostingRegressor(alpha=0.9, criterion='friedman_mse', init=None,\n",
       "             learning_rate=0.1, loss='ls', max_depth=1, max_features=None,\n",
       "             max_leaf_nodes=None, min_impurity_decrease=0.0,\n",
       "             min_impurity_split=None, min_samples_leaf=1,\n",
       "             min_samples_split=2, min_weight_fraction_leaf=0.0,\n",
       "             n_estimators=100, n_iter_no_change=None, presort='auto',\n",
       "             random_state=0, subsample=1.0, tol=0.0001,\n",
       "             validation_fraction=0.1, verbose=0, warm_start=False)"
      ]
     },
     "execution_count": 75,
     "metadata": {},
     "output_type": "execute_result"
    }
   ],
   "source": [
    "gbr.fit(X_train,y_train)"
   ]
  },
  {
   "cell_type": "code",
   "execution_count": 76,
   "metadata": {},
   "outputs": [
    {
     "data": {
      "text/plain": [
       "9.03430853723898"
      ]
     },
     "execution_count": 76,
     "metadata": {},
     "output_type": "execute_result"
    }
   ],
   "source": [
    "sqrt(mean_squared_error(y_test,gbr.predict(X_test)))"
   ]
  },
  {
   "cell_type": "code",
   "execution_count": 77,
   "metadata": {},
   "outputs": [
    {
     "name": "stdout",
     "output_type": "stream",
     "text": [
      "Accuracy: 91.37 %.\n"
     ]
    }
   ],
   "source": [
    "predictions = gbr.predict(X_test)\n",
    "errors = abs(predictions - y_test)\n",
    "mape = np.mean(100 * (errors / y_test))\n",
    "accuracy = 100 - mape\n",
    "print('Accuracy:', round(accuracy, 2), '%.')"
   ]
  },
  {
   "cell_type": "code",
   "execution_count": 78,
   "metadata": {},
   "outputs": [
    {
     "data": {
      "text/plain": [
       "0.2872962486180076"
      ]
     },
     "execution_count": 78,
     "metadata": {},
     "output_type": "execute_result"
    }
   ],
   "source": [
    "gbr.score(X_train,y_train)"
   ]
  },
  {
   "cell_type": "markdown",
   "metadata": {},
   "source": [
    "### Bagging Regressor"
   ]
  },
  {
   "cell_type": "code",
   "execution_count": 100,
   "metadata": {},
   "outputs": [],
   "source": [
    "from sklearn.ensemble import BaggingRegressor"
   ]
  },
  {
   "cell_type": "code",
   "execution_count": 101,
   "metadata": {},
   "outputs": [],
   "source": [
    "bag=BaggingRegressor(n_estimators=100)"
   ]
  },
  {
   "cell_type": "code",
   "execution_count": 102,
   "metadata": {},
   "outputs": [
    {
     "data": {
      "text/plain": [
       "BaggingRegressor(base_estimator=None, bootstrap=True,\n",
       "         bootstrap_features=False, max_features=1.0, max_samples=1.0,\n",
       "         n_estimators=100, n_jobs=None, oob_score=False, random_state=None,\n",
       "         verbose=0, warm_start=False)"
      ]
     },
     "execution_count": 102,
     "metadata": {},
     "output_type": "execute_result"
    }
   ],
   "source": [
    "bag.fit(X_train,y_train)"
   ]
  },
  {
   "cell_type": "code",
   "execution_count": 103,
   "metadata": {},
   "outputs": [
    {
     "data": {
      "text/plain": [
       "9.175956317445246"
      ]
     },
     "execution_count": 103,
     "metadata": {},
     "output_type": "execute_result"
    }
   ],
   "source": [
    "sqrt(mean_squared_error(y_test,bag.predict(X_test)))"
   ]
  },
  {
   "cell_type": "code",
   "execution_count": 104,
   "metadata": {},
   "outputs": [
    {
     "name": "stdout",
     "output_type": "stream",
     "text": [
      "Accuracy: 92.87 %.\n"
     ]
    }
   ],
   "source": [
    "predictions = bag.predict(X_test)\n",
    "errors = abs(predictions - y_test)\n",
    "mape = np.mean(100 * (errors / y_test))\n",
    "accuracy = 100 - mape\n",
    "print('Accuracy:', round(accuracy, 2), '%.')"
   ]
  },
  {
   "cell_type": "code",
   "execution_count": 105,
   "metadata": {},
   "outputs": [
    {
     "data": {
      "text/plain": [
       "0.8962318216565031"
      ]
     },
     "execution_count": 105,
     "metadata": {},
     "output_type": "execute_result"
    }
   ],
   "source": [
    "bag.score(X_train,y_train)"
   ]
  },
  {
   "cell_type": "code",
   "execution_count": null,
   "metadata": {},
   "outputs": [],
   "source": []
  },
  {
   "cell_type": "code",
   "execution_count": 110,
   "metadata": {},
   "outputs": [
    {
     "data": {
      "text/plain": [
       "Index(['Married', 'Children', 'cases/1M', 'Deaths/1M', 'Coma score',\n",
       "       'Platelets', 'HBB', 'd-dimer', 'HDL cholesterol', 'salary', 'Bengaluru',\n",
       "       'Bhubaneshwar', 'Chandigarh', 'Chennai', 'Delhi', 'Business', 'Cleaner',\n",
       "       'Clerk', 'Driver', 'Farmer', 'Legal', 'Manufacturing', 'Researcher',\n",
       "       'Sales'],\n",
       "      dtype='object')"
      ]
     },
     "execution_count": 110,
     "metadata": {},
     "output_type": "execute_result"
    }
   ],
   "source": [
    "X_train.columns"
   ]
  },
  {
   "cell_type": "markdown",
   "metadata": {},
   "source": [
    "### Creating Scoring Endpoint for Node-RED Integration"
   ]
  },
  {
   "cell_type": "code",
   "execution_count": 65,
   "metadata": {},
   "outputs": [
    {
     "name": "stdout",
     "output_type": "stream",
     "text": [
      "Collecting watson-machine-learning-client\n",
      "  Downloading watson_machine_learning_client-1.0.389-py3-none-any.whl (538 kB)\n",
      "Requirement already satisfied: tqdm in c:\\users\\asus\\appdata\\local\\programs\\python\\python38-32\\lib\\site-packages (from watson-machine-learning-client) (4.51.0)\n",
      "Requirement already satisfied: requests in c:\\users\\asus\\appdata\\local\\programs\\python\\python38-32\\lib\\site-packages (from watson-machine-learning-client) (2.24.0)\n",
      "Collecting boto3\n",
      "  Downloading boto3-1.16.25-py2.py3-none-any.whl (129 kB)\n",
      "Requirement already satisfied: certifi in c:\\users\\asus\\appdata\\local\\programs\\python\\python38-32\\lib\\site-packages (from watson-machine-learning-client) (2020.6.20)\n",
      "Requirement already satisfied: pandas in c:\\users\\asus\\appdata\\local\\programs\\python\\python38-32\\lib\\site-packages (from watson-machine-learning-client) (1.1.1)\n",
      "Collecting tabulate\n",
      "  Downloading tabulate-0.8.7-py3-none-any.whl (24 kB)\n",
      "Collecting ibm-cos-sdk\n",
      "  Downloading ibm-cos-sdk-2.8.0.tar.gz (52 kB)\n",
      "Requirement already satisfied: urllib3 in c:\\users\\asus\\appdata\\local\\programs\\python\\python38-32\\lib\\site-packages (from watson-machine-learning-client) (1.25.10)\n",
      "Collecting lomond\n",
      "  Downloading lomond-0.3.3-py2.py3-none-any.whl (35 kB)\n",
      "Requirement already satisfied: chardet<4,>=3.0.2 in c:\\users\\asus\\appdata\\local\\programs\\python\\python38-32\\lib\\site-packages (from requests->watson-machine-learning-client) (3.0.4)\n",
      "Requirement already satisfied: idna<3,>=2.5 in c:\\users\\asus\\appdata\\local\\programs\\python\\python38-32\\lib\\site-packages (from requests->watson-machine-learning-client) (2.10)\n",
      "Collecting jmespath<1.0.0,>=0.7.1\n",
      "  Downloading jmespath-0.10.0-py2.py3-none-any.whl (24 kB)\n",
      "Collecting botocore<1.20.0,>=1.19.25\n",
      "  Downloading botocore-1.19.25-py2.py3-none-any.whl (6.9 MB)\n",
      "Collecting s3transfer<0.4.0,>=0.3.0\n",
      "  Downloading s3transfer-0.3.3-py2.py3-none-any.whl (69 kB)\n",
      "Requirement already satisfied: python-dateutil>=2.7.3 in c:\\users\\asus\\appdata\\local\\programs\\python\\python38-32\\lib\\site-packages (from pandas->watson-machine-learning-client) (2.8.1)\n",
      "Requirement already satisfied: numpy>=1.15.4 in c:\\users\\asus\\appdata\\local\\programs\\python\\python38-32\\lib\\site-packages (from pandas->watson-machine-learning-client) (1.19.1)\n",
      "Requirement already satisfied: pytz>=2017.2 in c:\\users\\asus\\appdata\\local\\programs\\python\\python38-32\\lib\\site-packages (from pandas->watson-machine-learning-client) (2020.1)\n",
      "Collecting ibm-cos-sdk-core==2.8.0\n",
      "  Downloading ibm-cos-sdk-core-2.8.0.tar.gz (824 kB)\n",
      "Collecting ibm-cos-sdk-s3transfer==2.8.0\n",
      "  Downloading ibm-cos-sdk-s3transfer-2.8.0.tar.gz (133 kB)\n",
      "Requirement already satisfied: six>=1.10.0 in c:\\users\\asus\\appdata\\local\\programs\\python\\python38-32\\lib\\site-packages (from lomond->watson-machine-learning-client) (1.15.0)\n",
      "Collecting docutils<0.16,>=0.10\n",
      "  Downloading docutils-0.15.2-py3-none-any.whl (547 kB)\n",
      "Building wheels for collected packages: ibm-cos-sdk, ibm-cos-sdk-core, ibm-cos-sdk-s3transfer\n",
      "  Building wheel for ibm-cos-sdk (setup.py): started\n",
      "  Building wheel for ibm-cos-sdk (setup.py): finished with status 'done'\n",
      "  Created wheel for ibm-cos-sdk: filename=ibm_cos_sdk-2.8.0-py2.py3-none-any.whl size=72709 sha256=a4af0b20a8c37f898957ab3a7faddd4e2d18f3d335bfdb673950f1366e01f0f2\n",
      "  Stored in directory: c:\\users\\asus\\appdata\\local\\pip\\cache\\wheels\\46\\0b\\0e\\4821e0423421be7ec772bca6772a0d94662297443220a4b0f0\n",
      "  Building wheel for ibm-cos-sdk-core (setup.py): started\n",
      "  Building wheel for ibm-cos-sdk-core (setup.py): finished with status 'done'\n",
      "  Created wheel for ibm-cos-sdk-core: filename=ibm_cos_sdk_core-2.8.0-py2.py3-none-any.whl size=501194 sha256=48702e8e32e9f6b94251a1607322d403d10790ec8bd750b86e8ca940175a40a6\n",
      "  Stored in directory: c:\\users\\asus\\appdata\\local\\pip\\cache\\wheels\\31\\01\\09\\a412f524c7aea90c970ec0cd821ec4adbb67cf5ce7b638b038\n",
      "  Building wheel for ibm-cos-sdk-s3transfer (setup.py): started\n",
      "  Building wheel for ibm-cos-sdk-s3transfer (setup.py): finished with status 'done'\n",
      "  Created wheel for ibm-cos-sdk-s3transfer: filename=ibm_cos_sdk_s3transfer-2.8.0-py2.py3-none-any.whl size=88607 sha256=cf4aff73e503a1ac7c709e2b87dc83c77784093546e906fdb9c28ecad84eb191\n",
      "  Stored in directory: c:\\users\\asus\\appdata\\local\\pip\\cache\\wheels\\ce\\c3\\53\\2955ec0a59d932bcfcd6a1485aa4be964341687dd5ef4f18cb\n",
      "Successfully built ibm-cos-sdk ibm-cos-sdk-core ibm-cos-sdk-s3transfer\n",
      "Installing collected packages: jmespath, botocore, s3transfer, boto3, tabulate, docutils, ibm-cos-sdk-core, ibm-cos-sdk-s3transfer, ibm-cos-sdk, lomond, watson-machine-learning-client\n",
      "  Attempting uninstall: docutils\n",
      "    Found existing installation: docutils 0.16\n",
      "    Uninstalling docutils-0.16:\n",
      "      Successfully uninstalled docutils-0.16\n",
      "Successfully installed boto3-1.16.25 botocore-1.19.25 docutils-0.15.2 ibm-cos-sdk-2.8.0 ibm-cos-sdk-core-2.8.0 ibm-cos-sdk-s3transfer-2.8.0 jmespath-0.10.0 lomond-0.3.3 s3transfer-0.3.3 tabulate-0.8.7 watson-machine-learning-client-1.0.389\n"
     ]
    }
   ],
   "source": [
    "!pip install watson-machine-learning-client"
   ]
  },
  {
   "cell_type": "code",
   "execution_count": 89,
   "metadata": {},
   "outputs": [],
   "source": [
    "from watson_machine_learning_client import WatsonMachineLearningAPIClient"
   ]
  },
  {
   "cell_type": "code",
   "execution_count": 90,
   "metadata": {},
   "outputs": [],
   "source": [
    "wml_credentials={\n",
    "  \"apikey\": \"tEyrkRnZ3Mwi9vYBYoCvN9lELLsNeOP91q4TnUnyUMWa\",\n",
    "  \n",
    "  \n",
    "  \n",
    "  \n",
    "  \"instance_id\": \"26802ff6-5a26-4c5d-960f-e9e83b9896cb\",\n",
    "  \"url\": \"https://eu-gb.ml.cloud.ibm.com\"\n",
    "}"
   ]
  },
  {
   "cell_type": "code",
   "execution_count": 91,
   "metadata": {},
   "outputs": [],
   "source": [
    "client = WatsonMachineLearningAPIClient( wml_credentials )"
   ]
  },
  {
   "cell_type": "code",
   "execution_count": 92,
   "metadata": {},
   "outputs": [],
   "source": [
    "model_props = {client.repository.ModelMetaNames.AUTHOR_NAME: \"Sumit\", \n",
    "               client.repository.ModelMetaNames.AUTHOR_EMAIL: \"twd007007@gmail.com\", \n",
    "               client.repository.ModelMetaNames.NAME: \"Predicting the probablity of person getting infected with covid-19 on 20th march 2020\"}"
   ]
  },
  {
   "cell_type": "code",
   "execution_count": 93,
   "metadata": {},
   "outputs": [],
   "source": [
    "model_artifact =client.repository.store_model(bag, meta_props=model_props)"
   ]
  },
  {
   "cell_type": "code",
   "execution_count": 94,
   "metadata": {},
   "outputs": [],
   "source": [
    "published_model_uid = client.repository.get_model_uid(model_artifact)"
   ]
  },
  {
   "cell_type": "code",
   "execution_count": 95,
   "metadata": {},
   "outputs": [
    {
     "data": {
      "text/plain": [
       "'210eacc0-eae2-4415-b95b-8c9497014299'"
      ]
     },
     "execution_count": 95,
     "metadata": {},
     "output_type": "execute_result"
    }
   ],
   "source": [
    "published_model_uid"
   ]
  },
  {
   "cell_type": "code",
   "execution_count": 96,
   "metadata": {},
   "outputs": [
    {
     "name": "stdout",
     "output_type": "stream",
     "text": [
      "\n",
      "\n",
      "#######################################################################################\n",
      "\n",
      "Synchronous deployment creation for uid: '210eacc0-eae2-4415-b95b-8c9497014299' started\n",
      "\n",
      "#######################################################################################\n",
      "\n",
      "\n",
      "INITIALIZING\n",
      "DEPLOY_SUCCESS\n",
      "\n",
      "\n",
      "------------------------------------------------------------------------------------------------\n",
      "Successfully finished deployment creation, deployment_uid='4dbd3933-f1a3-442d-bcbc-5a4d2911ef75'\n",
      "------------------------------------------------------------------------------------------------\n",
      "\n",
      "\n"
     ]
    }
   ],
   "source": [
    "deployment = client.deployments.create(published_model_uid, name=\"Predicting the probablity of person getting infected with covid-19 on 20th march 2020\")"
   ]
  },
  {
   "cell_type": "code",
   "execution_count": 97,
   "metadata": {},
   "outputs": [],
   "source": [
    "scoring_endpoint = client.deployments.get_scoring_url(deployment)"
   ]
  },
  {
   "cell_type": "code",
   "execution_count": 98,
   "metadata": {},
   "outputs": [
    {
     "data": {
      "text/plain": [
       "'https://eu-gb.ml.cloud.ibm.com/v3/wml_instances/26802ff6-5a26-4c5d-960f-e9e83b9896cb/deployments/4dbd3933-f1a3-442d-bcbc-5a4d2911ef75/online'"
      ]
     },
     "execution_count": 98,
     "metadata": {},
     "output_type": "execute_result"
    }
   ],
   "source": [
    "scoring_endpoint"
   ]
  },
  {
   "cell_type": "code",
   "execution_count": 99,
   "metadata": {},
   "outputs": [
    {
     "data": {
      "text/plain": [
       "Index(['Married', 'Children', 'cases/1M', 'Deaths/1M', 'Coma score',\n",
       "       'Platelets', 'HBB', 'd-dimer', 'HDL cholesterol', 'salary', 'Bengaluru',\n",
       "       'Bhubaneshwar', 'Chandigarh', 'Chennai', 'Delhi', 'Business', 'Cleaner',\n",
       "       'Clerk', 'Driver', 'Farmer', 'Legal', 'Manufacturing', 'Researcher',\n",
       "       'Sales'],\n",
       "      dtype='object')"
      ]
     },
     "execution_count": 99,
     "metadata": {},
     "output_type": "execute_result"
    }
   ],
   "source": [
    "X_train.columns"
   ]
  },
  {
   "cell_type": "code",
   "execution_count": null,
   "metadata": {},
   "outputs": [],
   "source": [
    "[\"Married\", \"Children\", \"cases/1M\", \"Deaths/1M\", \"Coma score\",\n",
    "       \"Platelets\", \"HBB\", \"d-dimer\", \"HDL cholesterol\", \"salary\", \"Bengaluru\",\n",
    "       \"Bhubaneshwar\", \"Chandigarh\", \"Chennai\", \"Delhi\", \"Business\", \"Cleaner\",\n",
    "       \"Clerk\", \"Driver\", \"Farmer\", \"Legal\", \"Manufacturing\", \"Researcher\",\n",
    "       \"Sales\"]"
   ]
  }
 ],
 "metadata": {
  "kernelspec": {
   "display_name": "Python 3",
   "language": "python",
   "name": "python3"
  },
  "language_info": {
   "codemirror_mode": {
    "name": "ipython",
    "version": 3
   },
   "file_extension": ".py",
   "mimetype": "text/x-python",
   "name": "python",
   "nbconvert_exporter": "python",
   "pygments_lexer": "ipython3",
   "version": "3.8.4"
  }
 },
 "nbformat": 4,
 "nbformat_minor": 4
}
